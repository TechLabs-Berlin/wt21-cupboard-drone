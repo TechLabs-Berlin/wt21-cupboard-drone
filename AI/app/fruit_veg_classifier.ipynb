{
  "nbformat": 4,
  "nbformat_minor": 0,
  "metadata": {
    "colab": {
      "name": "fruit_veg_classifier.ipynb",
      "provenance": [],
      "collapsed_sections": []
    },
    "kernelspec": {
      "name": "python3",
      "display_name": "Python 3"
    },
    "language_info": {
      "name": "python"
    },
    "widgets": {
      "application/vnd.jupyter.widget-state+json": {
        "44464eef235245759c0c58b8e30da33a": {
          "model_module": "@jupyter-widgets/controls",
          "model_name": "VBoxModel",
          "model_module_version": "1.5.0",
          "state": {
            "_view_name": "VBoxView",
            "_dom_classes": [],
            "_model_name": "VBoxModel",
            "_view_module": "@jupyter-widgets/controls",
            "_model_module_version": "1.5.0",
            "_view_count": null,
            "_view_module_version": "1.5.0",
            "box_style": "",
            "layout": "IPY_MODEL_c0ccc27ea0f0423684d2aa3a68f0b652",
            "_model_module": "@jupyter-widgets/controls",
            "children": [
              "IPY_MODEL_eb1b9f0458e843fdbd9587d5e129195a",
              "IPY_MODEL_7bb573135df642ea837046fe72cf1b9d",
              "IPY_MODEL_ea151c6f10a84a49933ccbfef27c18d2",
              "IPY_MODEL_2eebb0c8deeb4551bb05daa6316e5d88",
              "IPY_MODEL_e4114a08dab0436f8172e1797661568d"
            ]
          }
        },
        "c0ccc27ea0f0423684d2aa3a68f0b652": {
          "model_module": "@jupyter-widgets/base",
          "model_name": "LayoutModel",
          "model_module_version": "1.2.0",
          "state": {
            "_view_name": "LayoutView",
            "grid_template_rows": null,
            "right": null,
            "justify_content": null,
            "_view_module": "@jupyter-widgets/base",
            "overflow": null,
            "_model_module_version": "1.2.0",
            "_view_count": null,
            "flex_flow": null,
            "width": null,
            "min_width": null,
            "border": null,
            "align_items": null,
            "bottom": null,
            "_model_module": "@jupyter-widgets/base",
            "top": null,
            "grid_column": null,
            "overflow_y": null,
            "overflow_x": null,
            "grid_auto_flow": null,
            "grid_area": null,
            "grid_template_columns": null,
            "flex": null,
            "_model_name": "LayoutModel",
            "justify_items": null,
            "grid_row": null,
            "max_height": null,
            "align_content": null,
            "visibility": null,
            "align_self": null,
            "height": null,
            "min_height": null,
            "padding": null,
            "grid_auto_rows": null,
            "grid_gap": null,
            "max_width": null,
            "order": null,
            "_view_module_version": "1.2.0",
            "grid_template_areas": null,
            "object_position": null,
            "object_fit": null,
            "grid_auto_columns": null,
            "margin": null,
            "display": null,
            "left": null
          }
        },
        "eb1b9f0458e843fdbd9587d5e129195a": {
          "model_module": "@jupyter-widgets/controls",
          "model_name": "LabelModel",
          "model_module_version": "1.5.0",
          "state": {
            "_view_name": "LabelView",
            "style": "IPY_MODEL_0b1a584181ac468a880c84a7608ac131",
            "_dom_classes": [],
            "description": "",
            "_model_name": "LabelModel",
            "placeholder": "​",
            "_view_module": "@jupyter-widgets/controls",
            "_model_module_version": "1.5.0",
            "value": "What fruit or veg is it?",
            "_view_count": null,
            "_view_module_version": "1.5.0",
            "description_tooltip": null,
            "_model_module": "@jupyter-widgets/controls",
            "layout": "IPY_MODEL_6df4abec134e4f35ae10436bd0392946"
          }
        },
        "7bb573135df642ea837046fe72cf1b9d": {
          "model_module": "@jupyter-widgets/controls",
          "model_name": "FileUploadModel",
          "model_module_version": "1.5.0",
          "state": {
            "_view_name": "FileUploadView",
            "_counter": 1,
            "style": "IPY_MODEL_499ab312a670421e8c4aafa0f262afe5",
            "_dom_classes": [],
            "description": "Upload",
            "multiple": false,
            "_model_name": "FileUploadModel",
            "data": [
              null
            ],
            "button_style": "",
            "_view_module": "@jupyter-widgets/controls",
            "_model_module_version": "1.5.0",
            "accept": "",
            "_view_count": null,
            "disabled": false,
            "_view_module_version": "1.5.0",
            "error": "",
            "description_tooltip": null,
            "metadata": [
              {
                "name": "img-4.jpg",
                "type": "image/jpeg",
                "size": 230788,
                "lastModified": 1502379112000
              }
            ],
            "_model_module": "@jupyter-widgets/controls",
            "layout": "IPY_MODEL_63d881a28a3e43c0a45d3c809a98a3a7",
            "icon": "upload"
          }
        },
        "ea151c6f10a84a49933ccbfef27c18d2": {
          "model_module": "@jupyter-widgets/controls",
          "model_name": "ButtonModel",
          "model_module_version": "1.5.0",
          "state": {
            "_view_name": "ButtonView",
            "style": "IPY_MODEL_972d4b7d5650435e9af9d0279ff1e3b6",
            "_dom_classes": [],
            "description": "Classify",
            "_model_name": "ButtonModel",
            "button_style": "",
            "_view_module": "@jupyter-widgets/controls",
            "_model_module_version": "1.5.0",
            "tooltip": "",
            "_view_count": null,
            "disabled": false,
            "_view_module_version": "1.5.0",
            "layout": "IPY_MODEL_da8feb96f7784d94abfba2d19807f252",
            "_model_module": "@jupyter-widgets/controls",
            "icon": ""
          }
        },
        "2eebb0c8deeb4551bb05daa6316e5d88": {
          "model_module": "@jupyter-widgets/output",
          "model_name": "OutputModel",
          "model_module_version": "1.0.0",
          "state": {
            "_view_name": "OutputView",
            "msg_id": "",
            "_dom_classes": [],
            "_model_name": "OutputModel",
            "outputs": [
              {
                "output_type": "display_data",
                "data": {
                  "image/png": "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\n",
                  "text/plain": "<PIL.Image.Image image mode=RGB size=128x72 at 0x7F8517042990>"
                },
                "metadata": {}
              }
            ],
            "_view_module": "@jupyter-widgets/output",
            "_model_module_version": "1.0.0",
            "_view_count": null,
            "_view_module_version": "1.0.0",
            "layout": "IPY_MODEL_8c8432e0772e4441af072fbbe1f698b0",
            "_model_module": "@jupyter-widgets/output"
          }
        },
        "e4114a08dab0436f8172e1797661568d": {
          "model_module": "@jupyter-widgets/controls",
          "model_name": "LabelModel",
          "model_module_version": "1.5.0",
          "state": {
            "_view_name": "LabelView",
            "style": "IPY_MODEL_7cf68d8d96fc4cfd8e0daf9a5b78934a",
            "_dom_classes": [],
            "description": "",
            "_model_name": "LabelModel",
            "placeholder": "​",
            "_view_module": "@jupyter-widgets/controls",
            "_model_module_version": "1.5.0",
            "value": "I guess this is a Ginger; Probability: 0.4956",
            "_view_count": null,
            "_view_module_version": "1.5.0",
            "description_tooltip": null,
            "_model_module": "@jupyter-widgets/controls",
            "layout": "IPY_MODEL_a280c86d91f84e198779d2051bf0480d"
          }
        },
        "0b1a584181ac468a880c84a7608ac131": {
          "model_module": "@jupyter-widgets/controls",
          "model_name": "DescriptionStyleModel",
          "model_module_version": "1.5.0",
          "state": {
            "_view_name": "StyleView",
            "_model_name": "DescriptionStyleModel",
            "description_width": "",
            "_view_module": "@jupyter-widgets/base",
            "_model_module_version": "1.5.0",
            "_view_count": null,
            "_view_module_version": "1.2.0",
            "_model_module": "@jupyter-widgets/controls"
          }
        },
        "6df4abec134e4f35ae10436bd0392946": {
          "model_module": "@jupyter-widgets/base",
          "model_name": "LayoutModel",
          "model_module_version": "1.2.0",
          "state": {
            "_view_name": "LayoutView",
            "grid_template_rows": null,
            "right": null,
            "justify_content": null,
            "_view_module": "@jupyter-widgets/base",
            "overflow": null,
            "_model_module_version": "1.2.0",
            "_view_count": null,
            "flex_flow": null,
            "width": null,
            "min_width": null,
            "border": null,
            "align_items": null,
            "bottom": null,
            "_model_module": "@jupyter-widgets/base",
            "top": null,
            "grid_column": null,
            "overflow_y": null,
            "overflow_x": null,
            "grid_auto_flow": null,
            "grid_area": null,
            "grid_template_columns": null,
            "flex": null,
            "_model_name": "LayoutModel",
            "justify_items": null,
            "grid_row": null,
            "max_height": null,
            "align_content": null,
            "visibility": null,
            "align_self": null,
            "height": null,
            "min_height": null,
            "padding": null,
            "grid_auto_rows": null,
            "grid_gap": null,
            "max_width": null,
            "order": null,
            "_view_module_version": "1.2.0",
            "grid_template_areas": null,
            "object_position": null,
            "object_fit": null,
            "grid_auto_columns": null,
            "margin": null,
            "display": null,
            "left": null
          }
        },
        "499ab312a670421e8c4aafa0f262afe5": {
          "model_module": "@jupyter-widgets/controls",
          "model_name": "ButtonStyleModel",
          "model_module_version": "1.5.0",
          "state": {
            "_view_name": "StyleView",
            "_model_name": "ButtonStyleModel",
            "_view_module": "@jupyter-widgets/base",
            "_model_module_version": "1.5.0",
            "_view_count": null,
            "button_color": null,
            "font_weight": "",
            "_view_module_version": "1.2.0",
            "_model_module": "@jupyter-widgets/controls"
          }
        },
        "63d881a28a3e43c0a45d3c809a98a3a7": {
          "model_module": "@jupyter-widgets/base",
          "model_name": "LayoutModel",
          "model_module_version": "1.2.0",
          "state": {
            "_view_name": "LayoutView",
            "grid_template_rows": null,
            "right": null,
            "justify_content": null,
            "_view_module": "@jupyter-widgets/base",
            "overflow": null,
            "_model_module_version": "1.2.0",
            "_view_count": null,
            "flex_flow": null,
            "width": null,
            "min_width": null,
            "border": null,
            "align_items": null,
            "bottom": null,
            "_model_module": "@jupyter-widgets/base",
            "top": null,
            "grid_column": null,
            "overflow_y": null,
            "overflow_x": null,
            "grid_auto_flow": null,
            "grid_area": null,
            "grid_template_columns": null,
            "flex": null,
            "_model_name": "LayoutModel",
            "justify_items": null,
            "grid_row": null,
            "max_height": null,
            "align_content": null,
            "visibility": null,
            "align_self": null,
            "height": null,
            "min_height": null,
            "padding": null,
            "grid_auto_rows": null,
            "grid_gap": null,
            "max_width": null,
            "order": null,
            "_view_module_version": "1.2.0",
            "grid_template_areas": null,
            "object_position": null,
            "object_fit": null,
            "grid_auto_columns": null,
            "margin": null,
            "display": null,
            "left": null
          }
        },
        "972d4b7d5650435e9af9d0279ff1e3b6": {
          "model_module": "@jupyter-widgets/controls",
          "model_name": "ButtonStyleModel",
          "model_module_version": "1.5.0",
          "state": {
            "_view_name": "StyleView",
            "_model_name": "ButtonStyleModel",
            "_view_module": "@jupyter-widgets/base",
            "_model_module_version": "1.5.0",
            "_view_count": null,
            "button_color": null,
            "font_weight": "",
            "_view_module_version": "1.2.0",
            "_model_module": "@jupyter-widgets/controls"
          }
        },
        "da8feb96f7784d94abfba2d19807f252": {
          "model_module": "@jupyter-widgets/base",
          "model_name": "LayoutModel",
          "model_module_version": "1.2.0",
          "state": {
            "_view_name": "LayoutView",
            "grid_template_rows": null,
            "right": null,
            "justify_content": null,
            "_view_module": "@jupyter-widgets/base",
            "overflow": null,
            "_model_module_version": "1.2.0",
            "_view_count": null,
            "flex_flow": null,
            "width": null,
            "min_width": null,
            "border": null,
            "align_items": null,
            "bottom": null,
            "_model_module": "@jupyter-widgets/base",
            "top": null,
            "grid_column": null,
            "overflow_y": null,
            "overflow_x": null,
            "grid_auto_flow": null,
            "grid_area": null,
            "grid_template_columns": null,
            "flex": null,
            "_model_name": "LayoutModel",
            "justify_items": null,
            "grid_row": null,
            "max_height": null,
            "align_content": null,
            "visibility": null,
            "align_self": null,
            "height": null,
            "min_height": null,
            "padding": null,
            "grid_auto_rows": null,
            "grid_gap": null,
            "max_width": null,
            "order": null,
            "_view_module_version": "1.2.0",
            "grid_template_areas": null,
            "object_position": null,
            "object_fit": null,
            "grid_auto_columns": null,
            "margin": null,
            "display": null,
            "left": null
          }
        },
        "7cf68d8d96fc4cfd8e0daf9a5b78934a": {
          "model_module": "@jupyter-widgets/controls",
          "model_name": "DescriptionStyleModel",
          "model_module_version": "1.5.0",
          "state": {
            "_view_name": "StyleView",
            "_model_name": "DescriptionStyleModel",
            "description_width": "",
            "_view_module": "@jupyter-widgets/base",
            "_model_module_version": "1.5.0",
            "_view_count": null,
            "_view_module_version": "1.2.0",
            "_model_module": "@jupyter-widgets/controls"
          }
        },
        "a280c86d91f84e198779d2051bf0480d": {
          "model_module": "@jupyter-widgets/base",
          "model_name": "LayoutModel",
          "model_module_version": "1.2.0",
          "state": {
            "_view_name": "LayoutView",
            "grid_template_rows": null,
            "right": null,
            "justify_content": null,
            "_view_module": "@jupyter-widgets/base",
            "overflow": null,
            "_model_module_version": "1.2.0",
            "_view_count": null,
            "flex_flow": null,
            "width": null,
            "min_width": null,
            "border": null,
            "align_items": null,
            "bottom": null,
            "_model_module": "@jupyter-widgets/base",
            "top": null,
            "grid_column": null,
            "overflow_y": null,
            "overflow_x": null,
            "grid_auto_flow": null,
            "grid_area": null,
            "grid_template_columns": null,
            "flex": null,
            "_model_name": "LayoutModel",
            "justify_items": null,
            "grid_row": null,
            "max_height": null,
            "align_content": null,
            "visibility": null,
            "align_self": null,
            "height": null,
            "min_height": null,
            "padding": null,
            "grid_auto_rows": null,
            "grid_gap": null,
            "max_width": null,
            "order": null,
            "_view_module_version": "1.2.0",
            "grid_template_areas": null,
            "object_position": null,
            "object_fit": null,
            "grid_auto_columns": null,
            "margin": null,
            "display": null,
            "left": null
          }
        },
        "8c8432e0772e4441af072fbbe1f698b0": {
          "model_module": "@jupyter-widgets/base",
          "model_name": "LayoutModel",
          "model_module_version": "1.2.0",
          "state": {
            "_view_name": "LayoutView",
            "grid_template_rows": null,
            "right": null,
            "justify_content": null,
            "_view_module": "@jupyter-widgets/base",
            "overflow": null,
            "_model_module_version": "1.2.0",
            "_view_count": null,
            "flex_flow": null,
            "width": null,
            "min_width": null,
            "border": null,
            "align_items": null,
            "bottom": null,
            "_model_module": "@jupyter-widgets/base",
            "top": null,
            "grid_column": null,
            "overflow_y": null,
            "overflow_x": null,
            "grid_auto_flow": null,
            "grid_area": null,
            "grid_template_columns": null,
            "flex": null,
            "_model_name": "LayoutModel",
            "justify_items": null,
            "grid_row": null,
            "max_height": null,
            "align_content": null,
            "visibility": null,
            "align_self": null,
            "height": null,
            "min_height": null,
            "padding": null,
            "grid_auto_rows": null,
            "grid_gap": null,
            "max_width": null,
            "order": null,
            "_view_module_version": "1.2.0",
            "grid_template_areas": null,
            "object_position": null,
            "object_fit": null,
            "grid_auto_columns": null,
            "margin": null,
            "display": null,
            "left": null
          }
        }
      }
    }
  },
  "cells": [
    {
      "cell_type": "markdown",
      "source": [
        "# What fruit or veg is it?\n",
        "#### This is a web app to test the fruit and vegetable classifier "
      ],
      "metadata": {
        "id": "3ERxctuUYxQT"
      }
    },
    {
      "cell_type": "code",
      "source": [
        "# !pip install fastai==2.2.7\n",
        "import fastai\n",
        "fastai.__version__"
      ],
      "metadata": {
        "id": "6G2hmweMY9Sg",
        "colab": {
          "base_uri": "https://localhost:8080/",
          "height": 35
        },
        "outputId": "0a46f9f1-8af9-4982-dcef-0a274ad8418d"
      },
      "execution_count": 1,
      "outputs": [
        {
          "output_type": "execute_result",
          "data": {
            "application/vnd.google.colaboratory.intrinsic+json": {
              "type": "string"
            },
            "text/plain": [
              "'2.2.7'"
            ]
          },
          "metadata": {},
          "execution_count": 1
        }
      ]
    },
    {
      "cell_type": "code",
      "source": [
        "# !python --version"
      ],
      "metadata": {
        "colab": {
          "base_uri": "https://localhost:8080/"
        },
        "id": "kL8edmuSZTwi",
        "outputId": "6ea5dccb-3832-4653-a75c-beeb3bd72f69"
      },
      "execution_count": 2,
      "outputs": [
        {
          "output_type": "stream",
          "name": "stdout",
          "text": [
            "Python 3.7.12\n"
          ]
        }
      ]
    },
    {
      "cell_type": "code",
      "source": [
        "# import pathlib\n",
        "# temp = pathlib.PosixPath\n",
        "# pathlib.PosixPath = pathlib.WindowsPath"
      ],
      "metadata": {
        "id": "4ByJVngYbjPB"
      },
      "execution_count": 7,
      "outputs": []
    },
    {
      "cell_type": "code",
      "source": [
        "from fastai.vision import *\n",
        "from fastai.imports import *\n",
        "from fastai.learner import *\n",
        "from fastai.vision.core import *\n",
        "from fastai.vision.widgets import *"
      ],
      "metadata": {
        "id": "jk17lLopb7di"
      },
      "execution_count": 1,
      "outputs": []
    },
    {
      "cell_type": "code",
      "source": [
        "learn_inf = load_learner('export.pkl')"
      ],
      "metadata": {
        "id": "PVSwr26SepgB"
      },
      "execution_count": 5,
      "outputs": []
    },
    {
      "cell_type": "code",
      "source": [
        "out_pl = widgets.Output()"
      ],
      "metadata": {
        "id": "d0VomtYXe14C"
      },
      "execution_count": 6,
      "outputs": []
    },
    {
      "cell_type": "code",
      "source": [
        "lbl_pred = widgets.Label()"
      ],
      "metadata": {
        "id": "v0UhYxtbe6Zj"
      },
      "execution_count": 7,
      "outputs": []
    },
    {
      "cell_type": "code",
      "source": [
        "btn_run = widgets.Button(description='Classify')"
      ],
      "metadata": {
        "id": "co5jfOKPe8r6"
      },
      "execution_count": 8,
      "outputs": []
    },
    {
      "cell_type": "code",
      "source": [
        "def on_click_classify(change):\n",
        "    img = PILImage.create(btn_upload.data[-1])\n",
        "    out_pl.clear_output()\n",
        "    with out_pl: display(img.to_thumb(128,128))\n",
        "    pred,pred_idx,probs = learn_inf.predict(img)\n",
        "    lbl_pred.value = f'I guess this is a {pred}; Probability: {probs[pred_idx]:.04f}'\n",
        "\n",
        "btn_run.on_click(on_click_classify)"
      ],
      "metadata": {
        "id": "6W7Y17aAe_n_"
      },
      "execution_count": 9,
      "outputs": []
    },
    {
      "cell_type": "code",
      "source": [
        "btn_upload = widgets.FileUpload()"
      ],
      "metadata": {
        "id": "1JLQIpUHfD0d"
      },
      "execution_count": 10,
      "outputs": []
    },
    {
      "cell_type": "code",
      "source": [
        "VBox([widgets.Label('What fruit or veg is it?'), \n",
        "      btn_upload, btn_run, out_pl, lbl_pred])"
      ],
      "metadata": {
        "colab": {
          "base_uri": "https://localhost:8080/",
          "height": 217,
          "referenced_widgets": [
            "44464eef235245759c0c58b8e30da33a",
            "c0ccc27ea0f0423684d2aa3a68f0b652",
            "eb1b9f0458e843fdbd9587d5e129195a",
            "7bb573135df642ea837046fe72cf1b9d",
            "ea151c6f10a84a49933ccbfef27c18d2",
            "2eebb0c8deeb4551bb05daa6316e5d88",
            "e4114a08dab0436f8172e1797661568d",
            "0b1a584181ac468a880c84a7608ac131",
            "6df4abec134e4f35ae10436bd0392946",
            "499ab312a670421e8c4aafa0f262afe5",
            "63d881a28a3e43c0a45d3c809a98a3a7",
            "972d4b7d5650435e9af9d0279ff1e3b6",
            "da8feb96f7784d94abfba2d19807f252",
            "7cf68d8d96fc4cfd8e0daf9a5b78934a",
            "a280c86d91f84e198779d2051bf0480d",
            "8c8432e0772e4441af072fbbe1f698b0"
          ]
        },
        "id": "lMXVXAZ9fIkg",
        "outputId": "4de84cd2-c203-4a84-e521-463824cb279d"
      },
      "execution_count": 11,
      "outputs": [
        {
          "output_type": "display_data",
          "data": {
            "application/vnd.jupyter.widget-view+json": {
              "model_id": "44464eef235245759c0c58b8e30da33a",
              "version_minor": 0,
              "version_major": 2
            },
            "text/plain": [
              "VBox(children=(Label(value='What fruit or veg is it?'), FileUpload(value={}, description='Upload'), Button(des…"
            ]
          },
          "metadata": {}
        },
        {
          "output_type": "display_data",
          "data": {
            "text/html": [
              ""
            ],
            "text/plain": [
              "<IPython.core.display.HTML object>"
            ]
          },
          "metadata": {}
        }
      ]
    }
  ]
}