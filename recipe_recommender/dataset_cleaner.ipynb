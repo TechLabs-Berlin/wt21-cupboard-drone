{
 "cells": [
  {
   "cell_type": "code",
   "execution_count": 29,
   "metadata": {
    "executionInfo": {
     "elapsed": 428,
     "status": "ok",
     "timestamp": 1642172540731,
     "user": {
      "displayName": "Emma Carballal",
      "photoUrl": "https://lh3.googleusercontent.com/a-/AOh14GjOk0k6tYKPxHeCxqjCxfWzpdHWR8XE07vXzu95ug=s64",
      "userId": "09906428519629220099"
     },
     "user_tz": -60
    },
    "id": "D84VDBhx4nxc"
   },
   "outputs": [],
   "source": [
    "import pandas as pd\n",
    "import json"
   ]
  },
  {
   "cell_type": "markdown",
   "metadata": {},
   "source": [
    "In order to avoid problems uploading large files to Github, I'll take half of the original recipe dataset (taken from Kaggle - https://www.kaggle.com/elisaxxygao/foodrecsysv1), which should be enough for our purposes."
   ]
  },
  {
   "cell_type": "code",
   "execution_count": null,
   "metadata": {},
   "outputs": [],
   "source": [
    "recipes = pd.read_csv('raw-data_recipe.csv')"
   ]
  },
  {
   "cell_type": "code",
   "execution_count": null,
   "metadata": {},
   "outputs": [],
   "source": [
    "recipes.head()"
   ]
  },
  {
   "cell_type": "code",
   "execution_count": null,
   "metadata": {
    "colab": {
     "base_uri": "https://localhost:8080/"
    },
    "executionInfo": {
     "elapsed": 628,
     "status": "ok",
     "timestamp": 1642173053483,
     "user": {
      "displayName": "Emma Carballal",
      "photoUrl": "https://lh3.googleusercontent.com/a-/AOh14GjOk0k6tYKPxHeCxqjCxfWzpdHWR8XE07vXzu95ug=s64",
      "userId": "09906428519629220099"
     },
     "user_tz": -60
    },
    "id": "HolCrQhXGMf4",
    "outputId": "82b5a608-a59f-4a85-e11d-5e86e309b993"
   },
   "outputs": [],
   "source": [
    "recipes.shape"
   ]
  },
  {
   "cell_type": "code",
   "execution_count": null,
   "metadata": {},
   "outputs": [],
   "source": [
    "recipes.recipe_id.nunique()"
   ]
  },
  {
   "cell_type": "code",
   "execution_count": null,
   "metadata": {
    "colab": {
     "base_uri": "https://localhost:8080/"
    },
    "executionInfo": {
     "elapsed": 620,
     "status": "ok",
     "timestamp": 1642173103544,
     "user": {
      "displayName": "Emma Carballal",
      "photoUrl": "https://lh3.googleusercontent.com/a-/AOh14GjOk0k6tYKPxHeCxqjCxfWzpdHWR8XE07vXzu95ug=s64",
      "userId": "09906428519629220099"
     },
     "user_tz": -60
    },
    "id": "ki5QGR51Gg3W",
    "outputId": "53ec7122-34e7-4077-b271-0f2cad2cceec"
   },
   "outputs": [],
   "source": [
    "recipes.isnull().sum()"
   ]
  },
  {
   "cell_type": "code",
   "execution_count": null,
   "metadata": {},
   "outputs": [],
   "source": [
    "copy = recipes.copy()\n",
    "copy.drop(copy.tail(30000).index,inplace=True)"
   ]
  },
  {
   "cell_type": "code",
   "execution_count": null,
   "metadata": {},
   "outputs": [],
   "source": [
    "copy.shape"
   ]
  },
  {
   "cell_type": "markdown",
   "metadata": {
    "id": "QvHyzJUyGpu6"
   },
   "source": [
    "I get rid of the \"nutritions\", \"review_nums\" and \"reviews\" column, since it won't be needing them in our app."
   ]
  },
  {
   "cell_type": "code",
   "execution_count": null,
   "metadata": {
    "colab": {
     "base_uri": "https://localhost:8080/",
     "height": 641
    },
    "executionInfo": {
     "elapsed": 416,
     "status": "ok",
     "timestamp": 1642173481392,
     "user": {
      "displayName": "Emma Carballal",
      "photoUrl": "https://lh3.googleusercontent.com/a-/AOh14GjOk0k6tYKPxHeCxqjCxfWzpdHWR8XE07vXzu95ug=s64",
      "userId": "09906428519629220099"
     },
     "user_tz": -60
    },
    "id": "aXOUREZpGuk0",
    "outputId": "fb9dca7a-c3a2-45ae-d696-0171d712220f"
   },
   "outputs": [],
   "source": [
    "copy.drop(columns=[\"nutritions\", \"review_nums\", \"reviews\"], inplace=True)\n",
    "copy.head()"
   ]
  },
  {
   "cell_type": "markdown",
   "metadata": {},
   "source": [
    "I add a column with the URL to the recipe in allrecipes.com in case we decide to send the user directly to the external website for cooking instructions, etc., once the recipe has been selected/recommended."
   ]
  },
  {
   "cell_type": "code",
   "execution_count": null,
   "metadata": {
    "colab": {
     "base_uri": "https://localhost:8080/",
     "height": 183
    },
    "executionInfo": {
     "elapsed": 319,
     "status": "error",
     "timestamp": 1642181369164,
     "user": {
      "displayName": "Emma Carballal",
      "photoUrl": "https://lh3.googleusercontent.com/a-/AOh14GjOk0k6tYKPxHeCxqjCxfWzpdHWR8XE07vXzu95ug=s64",
      "userId": "09906428519629220099"
     },
     "user_tz": -60
    },
    "id": "fuMiPRiKK5mv",
    "outputId": "95eb0d19-debb-4132-e169-b5941e424cee"
   },
   "outputs": [],
   "source": [
    "copy[\"recipe_url\"] = \"https://www.allrecipes.com/recipe/\" + copy[\"recipe_id\"].astype(str)\n",
    "copy.head()"
   ]
  },
  {
   "cell_type": "markdown",
   "metadata": {},
   "source": [
    "A list of ingredients is ready available, so no need to parse ingredient names from a list of ingredients + quantities"
   ]
  },
  {
   "cell_type": "code",
   "execution_count": null,
   "metadata": {},
   "outputs": [],
   "source": [
    "copy[\"ingredients\"] = copy[\"ingredients\"].str.replace('^', ', ')\n",
    "copy.head()"
   ]
  },
  {
   "cell_type": "code",
   "execution_count": null,
   "metadata": {},
   "outputs": [],
   "source": [
    "copy[\"aver_rate\"] = copy[\"aver_rate\"].astype(float)"
   ]
  },
  {
   "cell_type": "code",
   "execution_count": null,
   "metadata": {},
   "outputs": [],
   "source": [
    "def avg_rate(col):\n",
    "    return f'{col:.2f}'"
   ]
  },
  {
   "cell_type": "code",
   "execution_count": null,
   "metadata": {},
   "outputs": [],
   "source": [
    "copy[\"aver_rate\"] = copy[\"aver_rate\"].apply(avg_rate)"
   ]
  },
  {
   "cell_type": "code",
   "execution_count": null,
   "metadata": {},
   "outputs": [],
   "source": [
    "copy.head()"
   ]
  },
  {
   "cell_type": "code",
   "execution_count": null,
   "metadata": {},
   "outputs": [],
   "source": [
    "out = copy.to_json(orient='index')\n",
    "with open('recipe_dataset_sample_clean.json', 'w') as f:\n",
    "    f.write(out)"
   ]
  }
 ],
 "metadata": {
  "colab": {
   "authorship_tag": "ABX9TyP1Kd4Ed/orIWFPy9X19l9X",
   "collapsed_sections": [],
   "name": "dataset_cleaning.ipynb",
   "provenance": []
  },
  "kernelspec": {
   "display_name": "Python 3 (ipykernel)",
   "language": "python",
   "name": "python3"
  },
  "language_info": {
   "codemirror_mode": {
    "name": "ipython",
    "version": 3
   },
   "file_extension": ".py",
   "mimetype": "text/x-python",
   "name": "python",
   "nbconvert_exporter": "python",
   "pygments_lexer": "ipython3",
   "version": "3.7.4"
  }
 },
 "nbformat": 4,
 "nbformat_minor": 1
}
