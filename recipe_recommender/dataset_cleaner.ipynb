{
 "cells": [
  {
   "cell_type": "code",
   "execution_count": 1,
   "metadata": {
    "executionInfo": {
     "elapsed": 428,
     "status": "ok",
     "timestamp": 1642172540731,
     "user": {
      "displayName": "Emma Carballal",
      "photoUrl": "https://lh3.googleusercontent.com/a-/AOh14GjOk0k6tYKPxHeCxqjCxfWzpdHWR8XE07vXzu95ug=s64",
      "userId": "09906428519629220099"
     },
     "user_tz": -60
    },
    "id": "D84VDBhx4nxc"
   },
   "outputs": [],
   "source": [
    "import pandas as pd\n",
    "import json"
   ]
  },
  {
   "cell_type": "markdown",
   "metadata": {},
   "source": [
    "In order to avoid problems uploading large files in Github, I've taken a sample of the original recipe dataset (about half of it), which should be enough for our purposes."
   ]
  },
  {
   "cell_type": "code",
   "execution_count": 6,
   "metadata": {
    "executionInfo": {
     "elapsed": 2203,
     "status": "ok",
     "timestamp": 1642173047983,
     "user": {
      "displayName": "Emma Carballal",
      "photoUrl": "https://lh3.googleusercontent.com/a-/AOh14GjOk0k6tYKPxHeCxqjCxfWzpdHWR8XE07vXzu95ug=s64",
      "userId": "09906428519629220099"
     },
     "user_tz": -60
    },
    "id": "QwCpA6Ph8xMP"
   },
   "outputs": [],
   "source": [
    "recipes = pd.read_csv('foodRecSysdata_recipe_sample.csv')"
   ]
  },
  {
   "cell_type": "code",
   "execution_count": 7,
   "metadata": {
    "colab": {
     "base_uri": "https://localhost:8080/"
    },
    "executionInfo": {
     "elapsed": 628,
     "status": "ok",
     "timestamp": 1642173053483,
     "user": {
      "displayName": "Emma Carballal",
      "photoUrl": "https://lh3.googleusercontent.com/a-/AOh14GjOk0k6tYKPxHeCxqjCxfWzpdHWR8XE07vXzu95ug=s64",
      "userId": "09906428519629220099"
     },
     "user_tz": -60
    },
    "id": "HolCrQhXGMf4",
    "outputId": "82b5a608-a59f-4a85-e11d-5e86e309b993"
   },
   "outputs": [
    {
     "data": {
      "text/plain": [
       "(22388, 6)"
      ]
     },
     "execution_count": 7,
     "metadata": {},
     "output_type": "execute_result"
    }
   ],
   "source": [
    "recipes.shape"
   ]
  },
  {
   "cell_type": "code",
   "execution_count": 8,
   "metadata": {
    "colab": {
     "base_uri": "https://localhost:8080/",
     "height": 166
    },
    "executionInfo": {
     "elapsed": 271,
     "status": "error",
     "timestamp": 1642181383543,
     "user": {
      "displayName": "Emma Carballal",
      "photoUrl": "https://lh3.googleusercontent.com/a-/AOh14GjOk0k6tYKPxHeCxqjCxfWzpdHWR8XE07vXzu95ug=s64",
      "userId": "09906428519629220099"
     },
     "user_tz": -60
    },
    "id": "WroQ_CSxGW0_",
    "outputId": "c7be591a-10aa-4219-a207-09d0b8e47aac"
   },
   "outputs": [
    {
     "data": {
      "text/html": [
       "<div>\n",
       "<style scoped>\n",
       "    .dataframe tbody tr th:only-of-type {\n",
       "        vertical-align: middle;\n",
       "    }\n",
       "\n",
       "    .dataframe tbody tr th {\n",
       "        vertical-align: top;\n",
       "    }\n",
       "\n",
       "    .dataframe thead th {\n",
       "        text-align: right;\n",
       "    }\n",
       "</style>\n",
       "<table border=\"1\" class=\"dataframe\">\n",
       "  <thead>\n",
       "    <tr style=\"text-align: right;\">\n",
       "      <th></th>\n",
       "      <th>recipe_id</th>\n",
       "      <th>recipe_name</th>\n",
       "      <th>image_url</th>\n",
       "      <th>ingredients</th>\n",
       "      <th>cooking_directions</th>\n",
       "      <th>nutritions</th>\n",
       "    </tr>\n",
       "  </thead>\n",
       "  <tbody>\n",
       "    <tr>\n",
       "      <th>0</th>\n",
       "      <td>240488</td>\n",
       "      <td>Pork Loin, Apples, and Sauerkraut</td>\n",
       "      <td>https://images.media-allrecipes.com/userphotos...</td>\n",
       "      <td>sauerkraut drained^Granny Smith apples sliced^...</td>\n",
       "      <td>{'directions': u'Prep\\n15 m\\nCook\\n2 h 30 m\\nR...</td>\n",
       "      <td>{u'niacin': {u'hasCompleteData': False, u'name...</td>\n",
       "    </tr>\n",
       "    <tr>\n",
       "      <th>1</th>\n",
       "      <td>218939</td>\n",
       "      <td>Foolproof Rosemary Chicken Wings</td>\n",
       "      <td>https://images.media-allrecipes.com/userphotos...</td>\n",
       "      <td>chicken wings^sprigs rosemary^head garlic^oliv...</td>\n",
       "      <td>{'directions': u\"Prep\\n20 m\\nCook\\n40 m\\nReady...</td>\n",
       "      <td>{u'niacin': {u'hasCompleteData': True, u'name'...</td>\n",
       "    </tr>\n",
       "    <tr>\n",
       "      <th>2</th>\n",
       "      <td>87211</td>\n",
       "      <td>Chicken Pesto Paninis</td>\n",
       "      <td>https://images.media-allrecipes.com/userphotos...</td>\n",
       "      <td>focaccia bread quartered^prepared basil pesto^...</td>\n",
       "      <td>{'directions': u'Prep\\n15 m\\nCook\\n5 m\\nReady ...</td>\n",
       "      <td>{u'niacin': {u'hasCompleteData': True, u'name'...</td>\n",
       "    </tr>\n",
       "    <tr>\n",
       "      <th>3</th>\n",
       "      <td>245714</td>\n",
       "      <td>Potato Bacon Pizza</td>\n",
       "      <td>https://images.media-allrecipes.com/userphotos...</td>\n",
       "      <td>red potatoes^strips bacon^Sauce:^heavy whippin...</td>\n",
       "      <td>{'directions': u'Prep\\n20 m\\nCook\\n45 m\\nReady...</td>\n",
       "      <td>{u'niacin': {u'hasCompleteData': True, u'name'...</td>\n",
       "    </tr>\n",
       "    <tr>\n",
       "      <th>4</th>\n",
       "      <td>218545</td>\n",
       "      <td>Latin-Inspired Spicy Cream Chicken Stew</td>\n",
       "      <td>https://images.media-allrecipes.com/userphotos...</td>\n",
       "      <td>skinless boneless chicken breast halves^diced ...</td>\n",
       "      <td>{'directions': u'Prep\\n10 m\\nCook\\n8 h 15 m\\nR...</td>\n",
       "      <td>{u'niacin': {u'hasCompleteData': False, u'name...</td>\n",
       "    </tr>\n",
       "  </tbody>\n",
       "</table>\n",
       "</div>"
      ],
      "text/plain": [
       "   recipe_id                              recipe_name  \\\n",
       "0     240488        Pork Loin, Apples, and Sauerkraut   \n",
       "1     218939         Foolproof Rosemary Chicken Wings   \n",
       "2      87211                    Chicken Pesto Paninis   \n",
       "3     245714                       Potato Bacon Pizza   \n",
       "4     218545  Latin-Inspired Spicy Cream Chicken Stew   \n",
       "\n",
       "                                           image_url  \\\n",
       "0  https://images.media-allrecipes.com/userphotos...   \n",
       "1  https://images.media-allrecipes.com/userphotos...   \n",
       "2  https://images.media-allrecipes.com/userphotos...   \n",
       "3  https://images.media-allrecipes.com/userphotos...   \n",
       "4  https://images.media-allrecipes.com/userphotos...   \n",
       "\n",
       "                                         ingredients  \\\n",
       "0  sauerkraut drained^Granny Smith apples sliced^...   \n",
       "1  chicken wings^sprigs rosemary^head garlic^oliv...   \n",
       "2  focaccia bread quartered^prepared basil pesto^...   \n",
       "3  red potatoes^strips bacon^Sauce:^heavy whippin...   \n",
       "4  skinless boneless chicken breast halves^diced ...   \n",
       "\n",
       "                                  cooking_directions  \\\n",
       "0  {'directions': u'Prep\\n15 m\\nCook\\n2 h 30 m\\nR...   \n",
       "1  {'directions': u\"Prep\\n20 m\\nCook\\n40 m\\nReady...   \n",
       "2  {'directions': u'Prep\\n15 m\\nCook\\n5 m\\nReady ...   \n",
       "3  {'directions': u'Prep\\n20 m\\nCook\\n45 m\\nReady...   \n",
       "4  {'directions': u'Prep\\n10 m\\nCook\\n8 h 15 m\\nR...   \n",
       "\n",
       "                                          nutritions  \n",
       "0  {u'niacin': {u'hasCompleteData': False, u'name...  \n",
       "1  {u'niacin': {u'hasCompleteData': True, u'name'...  \n",
       "2  {u'niacin': {u'hasCompleteData': True, u'name'...  \n",
       "3  {u'niacin': {u'hasCompleteData': True, u'name'...  \n",
       "4  {u'niacin': {u'hasCompleteData': False, u'name...  "
      ]
     },
     "execution_count": 8,
     "metadata": {},
     "output_type": "execute_result"
    }
   ],
   "source": [
    "recipes.head()"
   ]
  },
  {
   "cell_type": "code",
   "execution_count": 9,
   "metadata": {
    "colab": {
     "base_uri": "https://localhost:8080/"
    },
    "executionInfo": {
     "elapsed": 620,
     "status": "ok",
     "timestamp": 1642173103544,
     "user": {
      "displayName": "Emma Carballal",
      "photoUrl": "https://lh3.googleusercontent.com/a-/AOh14GjOk0k6tYKPxHeCxqjCxfWzpdHWR8XE07vXzu95ug=s64",
      "userId": "09906428519629220099"
     },
     "user_tz": -60
    },
    "id": "ki5QGR51Gg3W",
    "outputId": "53ec7122-34e7-4077-b271-0f2cad2cceec"
   },
   "outputs": [
    {
     "data": {
      "text/plain": [
       "recipe_id             0\n",
       "recipe_name           0\n",
       "image_url             0\n",
       "ingredients           0\n",
       "cooking_directions    0\n",
       "nutritions            0\n",
       "dtype: int64"
      ]
     },
     "execution_count": 9,
     "metadata": {},
     "output_type": "execute_result"
    }
   ],
   "source": [
    "recipes.isnull().sum()"
   ]
  },
  {
   "cell_type": "markdown",
   "metadata": {
    "id": "QvHyzJUyGpu6"
   },
   "source": [
    "Since we're just identifying a recipe by ingredients and sending the user to the URL in allrecipes.com, I get rid of the cooking_directions and nutritions column. If cooking_directions proves to be useful to build a recommender system, the column can be reintroduced. There is also recipe rating information available if we include rating functionality in our app."
   ]
  },
  {
   "cell_type": "code",
   "execution_count": 10,
   "metadata": {
    "colab": {
     "base_uri": "https://localhost:8080/",
     "height": 641
    },
    "executionInfo": {
     "elapsed": 416,
     "status": "ok",
     "timestamp": 1642173481392,
     "user": {
      "displayName": "Emma Carballal",
      "photoUrl": "https://lh3.googleusercontent.com/a-/AOh14GjOk0k6tYKPxHeCxqjCxfWzpdHWR8XE07vXzu95ug=s64",
      "userId": "09906428519629220099"
     },
     "user_tz": -60
    },
    "id": "aXOUREZpGuk0",
    "outputId": "fb9dca7a-c3a2-45ae-d696-0171d712220f"
   },
   "outputs": [],
   "source": [
    "copy = recipes.copy()\n",
    "copy.drop(columns=[\"cooking_directions\", \"nutritions\"], inplace=True)"
   ]
  },
  {
   "cell_type": "code",
   "execution_count": 11,
   "metadata": {
    "colab": {
     "base_uri": "https://localhost:8080/",
     "height": 183
    },
    "executionInfo": {
     "elapsed": 319,
     "status": "error",
     "timestamp": 1642181369164,
     "user": {
      "displayName": "Emma Carballal",
      "photoUrl": "https://lh3.googleusercontent.com/a-/AOh14GjOk0k6tYKPxHeCxqjCxfWzpdHWR8XE07vXzu95ug=s64",
      "userId": "09906428519629220099"
     },
     "user_tz": -60
    },
    "id": "fuMiPRiKK5mv",
    "outputId": "95eb0d19-debb-4132-e169-b5941e424cee"
   },
   "outputs": [
    {
     "data": {
      "text/html": [
       "<div>\n",
       "<style scoped>\n",
       "    .dataframe tbody tr th:only-of-type {\n",
       "        vertical-align: middle;\n",
       "    }\n",
       "\n",
       "    .dataframe tbody tr th {\n",
       "        vertical-align: top;\n",
       "    }\n",
       "\n",
       "    .dataframe thead th {\n",
       "        text-align: right;\n",
       "    }\n",
       "</style>\n",
       "<table border=\"1\" class=\"dataframe\">\n",
       "  <thead>\n",
       "    <tr style=\"text-align: right;\">\n",
       "      <th></th>\n",
       "      <th>recipe_id</th>\n",
       "      <th>recipe_name</th>\n",
       "      <th>image_url</th>\n",
       "      <th>ingredients</th>\n",
       "      <th>recipe_url</th>\n",
       "    </tr>\n",
       "  </thead>\n",
       "  <tbody>\n",
       "    <tr>\n",
       "      <th>0</th>\n",
       "      <td>240488</td>\n",
       "      <td>Pork Loin, Apples, and Sauerkraut</td>\n",
       "      <td>https://images.media-allrecipes.com/userphotos...</td>\n",
       "      <td>sauerkraut drained^Granny Smith apples sliced^...</td>\n",
       "      <td>https://www.allrecipes.com/recipe/240488</td>\n",
       "    </tr>\n",
       "    <tr>\n",
       "      <th>1</th>\n",
       "      <td>218939</td>\n",
       "      <td>Foolproof Rosemary Chicken Wings</td>\n",
       "      <td>https://images.media-allrecipes.com/userphotos...</td>\n",
       "      <td>chicken wings^sprigs rosemary^head garlic^oliv...</td>\n",
       "      <td>https://www.allrecipes.com/recipe/218939</td>\n",
       "    </tr>\n",
       "    <tr>\n",
       "      <th>2</th>\n",
       "      <td>87211</td>\n",
       "      <td>Chicken Pesto Paninis</td>\n",
       "      <td>https://images.media-allrecipes.com/userphotos...</td>\n",
       "      <td>focaccia bread quartered^prepared basil pesto^...</td>\n",
       "      <td>https://www.allrecipes.com/recipe/87211</td>\n",
       "    </tr>\n",
       "    <tr>\n",
       "      <th>3</th>\n",
       "      <td>245714</td>\n",
       "      <td>Potato Bacon Pizza</td>\n",
       "      <td>https://images.media-allrecipes.com/userphotos...</td>\n",
       "      <td>red potatoes^strips bacon^Sauce:^heavy whippin...</td>\n",
       "      <td>https://www.allrecipes.com/recipe/245714</td>\n",
       "    </tr>\n",
       "    <tr>\n",
       "      <th>4</th>\n",
       "      <td>218545</td>\n",
       "      <td>Latin-Inspired Spicy Cream Chicken Stew</td>\n",
       "      <td>https://images.media-allrecipes.com/userphotos...</td>\n",
       "      <td>skinless boneless chicken breast halves^diced ...</td>\n",
       "      <td>https://www.allrecipes.com/recipe/218545</td>\n",
       "    </tr>\n",
       "  </tbody>\n",
       "</table>\n",
       "</div>"
      ],
      "text/plain": [
       "   recipe_id                              recipe_name  \\\n",
       "0     240488        Pork Loin, Apples, and Sauerkraut   \n",
       "1     218939         Foolproof Rosemary Chicken Wings   \n",
       "2      87211                    Chicken Pesto Paninis   \n",
       "3     245714                       Potato Bacon Pizza   \n",
       "4     218545  Latin-Inspired Spicy Cream Chicken Stew   \n",
       "\n",
       "                                           image_url  \\\n",
       "0  https://images.media-allrecipes.com/userphotos...   \n",
       "1  https://images.media-allrecipes.com/userphotos...   \n",
       "2  https://images.media-allrecipes.com/userphotos...   \n",
       "3  https://images.media-allrecipes.com/userphotos...   \n",
       "4  https://images.media-allrecipes.com/userphotos...   \n",
       "\n",
       "                                         ingredients  \\\n",
       "0  sauerkraut drained^Granny Smith apples sliced^...   \n",
       "1  chicken wings^sprigs rosemary^head garlic^oliv...   \n",
       "2  focaccia bread quartered^prepared basil pesto^...   \n",
       "3  red potatoes^strips bacon^Sauce:^heavy whippin...   \n",
       "4  skinless boneless chicken breast halves^diced ...   \n",
       "\n",
       "                                 recipe_url  \n",
       "0  https://www.allrecipes.com/recipe/240488  \n",
       "1  https://www.allrecipes.com/recipe/218939  \n",
       "2   https://www.allrecipes.com/recipe/87211  \n",
       "3  https://www.allrecipes.com/recipe/245714  \n",
       "4  https://www.allrecipes.com/recipe/218545  "
      ]
     },
     "execution_count": 11,
     "metadata": {},
     "output_type": "execute_result"
    }
   ],
   "source": [
    "copy[\"recipe_url\"] = \"https://www.allrecipes.com/recipe/\" + copy[\"recipe_id\"].astype(str)\n",
    "copy.head()"
   ]
  },
  {
   "cell_type": "code",
   "execution_count": 12,
   "metadata": {},
   "outputs": [
    {
     "name": "stderr",
     "output_type": "stream",
     "text": [
      "C:\\Users\\nineve\\anaconda3\\envs\\fastai\\lib\\site-packages\\ipykernel_launcher.py:1: FutureWarning: The default value of regex will change from True to False in a future version. In addition, single character regular expressions will *not* be treated as literal strings when regex=True.\n",
      "  \"\"\"Entry point for launching an IPython kernel.\n"
     ]
    },
    {
     "data": {
      "text/html": [
       "<div>\n",
       "<style scoped>\n",
       "    .dataframe tbody tr th:only-of-type {\n",
       "        vertical-align: middle;\n",
       "    }\n",
       "\n",
       "    .dataframe tbody tr th {\n",
       "        vertical-align: top;\n",
       "    }\n",
       "\n",
       "    .dataframe thead th {\n",
       "        text-align: right;\n",
       "    }\n",
       "</style>\n",
       "<table border=\"1\" class=\"dataframe\">\n",
       "  <thead>\n",
       "    <tr style=\"text-align: right;\">\n",
       "      <th></th>\n",
       "      <th>recipe_id</th>\n",
       "      <th>recipe_name</th>\n",
       "      <th>image_url</th>\n",
       "      <th>ingredients</th>\n",
       "      <th>recipe_url</th>\n",
       "    </tr>\n",
       "  </thead>\n",
       "  <tbody>\n",
       "    <tr>\n",
       "      <th>0</th>\n",
       "      <td>240488</td>\n",
       "      <td>Pork Loin, Apples, and Sauerkraut</td>\n",
       "      <td>https://images.media-allrecipes.com/userphotos...</td>\n",
       "      <td>sauerkraut drained, Granny Smith apples sliced...</td>\n",
       "      <td>https://www.allrecipes.com/recipe/240488</td>\n",
       "    </tr>\n",
       "    <tr>\n",
       "      <th>1</th>\n",
       "      <td>218939</td>\n",
       "      <td>Foolproof Rosemary Chicken Wings</td>\n",
       "      <td>https://images.media-allrecipes.com/userphotos...</td>\n",
       "      <td>chicken wings, sprigs rosemary, head garlic, o...</td>\n",
       "      <td>https://www.allrecipes.com/recipe/218939</td>\n",
       "    </tr>\n",
       "    <tr>\n",
       "      <th>2</th>\n",
       "      <td>87211</td>\n",
       "      <td>Chicken Pesto Paninis</td>\n",
       "      <td>https://images.media-allrecipes.com/userphotos...</td>\n",
       "      <td>focaccia bread quartered, prepared basil pesto...</td>\n",
       "      <td>https://www.allrecipes.com/recipe/87211</td>\n",
       "    </tr>\n",
       "    <tr>\n",
       "      <th>3</th>\n",
       "      <td>245714</td>\n",
       "      <td>Potato Bacon Pizza</td>\n",
       "      <td>https://images.media-allrecipes.com/userphotos...</td>\n",
       "      <td>red potatoes, strips bacon, Sauce:, heavy whip...</td>\n",
       "      <td>https://www.allrecipes.com/recipe/245714</td>\n",
       "    </tr>\n",
       "    <tr>\n",
       "      <th>4</th>\n",
       "      <td>218545</td>\n",
       "      <td>Latin-Inspired Spicy Cream Chicken Stew</td>\n",
       "      <td>https://images.media-allrecipes.com/userphotos...</td>\n",
       "      <td>skinless boneless chicken breast halves, diced...</td>\n",
       "      <td>https://www.allrecipes.com/recipe/218545</td>\n",
       "    </tr>\n",
       "  </tbody>\n",
       "</table>\n",
       "</div>"
      ],
      "text/plain": [
       "   recipe_id                              recipe_name  \\\n",
       "0     240488        Pork Loin, Apples, and Sauerkraut   \n",
       "1     218939         Foolproof Rosemary Chicken Wings   \n",
       "2      87211                    Chicken Pesto Paninis   \n",
       "3     245714                       Potato Bacon Pizza   \n",
       "4     218545  Latin-Inspired Spicy Cream Chicken Stew   \n",
       "\n",
       "                                           image_url  \\\n",
       "0  https://images.media-allrecipes.com/userphotos...   \n",
       "1  https://images.media-allrecipes.com/userphotos...   \n",
       "2  https://images.media-allrecipes.com/userphotos...   \n",
       "3  https://images.media-allrecipes.com/userphotos...   \n",
       "4  https://images.media-allrecipes.com/userphotos...   \n",
       "\n",
       "                                         ingredients  \\\n",
       "0  sauerkraut drained, Granny Smith apples sliced...   \n",
       "1  chicken wings, sprigs rosemary, head garlic, o...   \n",
       "2  focaccia bread quartered, prepared basil pesto...   \n",
       "3  red potatoes, strips bacon, Sauce:, heavy whip...   \n",
       "4  skinless boneless chicken breast halves, diced...   \n",
       "\n",
       "                                 recipe_url  \n",
       "0  https://www.allrecipes.com/recipe/240488  \n",
       "1  https://www.allrecipes.com/recipe/218939  \n",
       "2   https://www.allrecipes.com/recipe/87211  \n",
       "3  https://www.allrecipes.com/recipe/245714  \n",
       "4  https://www.allrecipes.com/recipe/218545  "
      ]
     },
     "execution_count": 12,
     "metadata": {},
     "output_type": "execute_result"
    }
   ],
   "source": [
    "copy[\"ingredients\"] = copy[\"ingredients\"].str.replace('^', ', ')\n",
    "copy.head()"
   ]
  },
  {
   "cell_type": "code",
   "execution_count": 13,
   "metadata": {},
   "outputs": [],
   "source": [
    "out = copy.to_json(orient='index')\n",
    "with open('recipe_dataset_sample_clean.json', 'w') as f:\n",
    "    f.write(out)"
   ]
  }
 ],
 "metadata": {
  "colab": {
   "authorship_tag": "ABX9TyP1Kd4Ed/orIWFPy9X19l9X",
   "collapsed_sections": [],
   "name": "dataset_cleaning.ipynb",
   "provenance": []
  },
  "kernelspec": {
   "display_name": "Python 3",
   "language": "python",
   "name": "python3"
  },
  "language_info": {
   "codemirror_mode": {
    "name": "ipython",
    "version": 3
   },
   "file_extension": ".py",
   "mimetype": "text/x-python",
   "name": "python",
   "nbconvert_exporter": "python",
   "pygments_lexer": "ipython3",
   "version": "3.7.11"
  }
 },
 "nbformat": 4,
 "nbformat_minor": 1
}
